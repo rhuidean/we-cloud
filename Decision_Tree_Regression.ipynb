{
 "cells": [
  {
   "cell_type": "markdown",
   "metadata": {},
   "source": [
    "# Late Adopters Prediction"
   ]
  },
  {
   "cell_type": "markdown",
   "metadata": {},
   "source": [
    "## Import Data"
   ]
  },
  {
   "cell_type": "code",
   "execution_count": 226,
   "metadata": {},
   "outputs": [
    {
     "name": "stdout",
     "output_type": "stream",
     "text": [
      "Populating the interactive namespace from numpy and matplotlib\n"
     ]
    },
    {
     "name": "stderr",
     "output_type": "stream",
     "text": [
      "C:\\Users\\Jason\\Anaconda3\\lib\\site-packages\\IPython\\core\\magics\\pylab.py:161: UserWarning: pylab import has clobbered these variables: ['clf']\n",
      "`%matplotlib` prevents importing * from pylab and numpy\n",
      "  \"\\n`%matplotlib` prevents importing * from pylab and numpy\"\n"
     ]
    }
   ],
   "source": [
    "%pylab inline\n",
    "import numpy as np\n",
    "import pandas as pd\n",
    "import matplotlib.pyplot as plt\n",
    "import scipy.stats as stats\n",
    "from sklearn.metrics import accuracy_score"
   ]
  },
  {
   "cell_type": "markdown",
   "metadata": {},
   "source": [
    "## Clean Data"
   ]
  },
  {
   "cell_type": "code",
   "execution_count": 202,
   "metadata": {},
   "outputs": [
    {
     "name": "stdout",
     "output_type": "stream",
     "text": [
      "Data: type <class 'pandas.core.frame.DataFrame'> shape (4679, 10)\n",
      "Total instance 4674\n",
      "Total instance 4674\n",
      "float64\n"
     ]
    }
   ],
   "source": [
    "df_customer = pd.read_csv(\"C:/Users/Jason/Documents/Schulich/MBAN6110/Mid_Term/a1_dataset.dat\", header=None, delimiter=\";\")\n",
    "print (\"Data: type %s shape %s\" % (type(df_customer), df_customer.shape))\n",
    "\n",
    "df_customer.columns = df_customer.iloc[0,:] ### use ndarray index to retrieve column names\n",
    "df_customer = df_customer[df_customer.UserID.str.match(\"([0-9]+)\")]\n",
    "\n",
    "df_customer['Target'] = np.where(df_customer.Adopter_Class.str.contains(\"Late\"), 1.0, 0.0) ### difference in df.Target vs df['Target']\n",
    "df_customer=df_customer.drop('Adopter_Class', axis=1) ### drop \"Adopter_Class column\"\n",
    "\n",
    "df_customer.head(10) ### check \n",
    "print (\"Total instance %d\" % (df_customer.shape[0]))\n",
    "\n",
    "df_customer.dropna() ### drop all rows with any null value \n",
    "print (\"Total instance %d\" % (df_customer.shape[0]))\n",
    "\n",
    "interval_features = ['UserID','Age']\n",
    "\n",
    "df_customer.describe(include='all')\n",
    "\n",
    "df_customer=df_customer[df_customer['Marital_Status'].notnull()]  ### remove Marital_Status null rows\n",
    "df_customer.describe(include='all')\n",
    "\n",
    "df_customer=df_customer.dropna() ### cleaned final data\n",
    "print (df_customer['Target'].dtype)"
   ]
  },
  {
   "cell_type": "code",
   "execution_count": 203,
   "metadata": {},
   "outputs": [
    {
     "data": {
      "text/html": [
       "<div>\n",
       "<style>\n",
       "    .dataframe thead tr:only-child th {\n",
       "        text-align: right;\n",
       "    }\n",
       "\n",
       "    .dataframe thead th {\n",
       "        text-align: left;\n",
       "    }\n",
       "\n",
       "    .dataframe tbody tr th {\n",
       "        vertical-align: top;\n",
       "    }\n",
       "</style>\n",
       "<table border=\"1\" class=\"dataframe\">\n",
       "  <thead>\n",
       "    <tr style=\"text-align: right;\">\n",
       "      <th></th>\n",
       "      <th>UserID</th>\n",
       "      <th>Gender</th>\n",
       "      <th>Age</th>\n",
       "      <th>Marital_Status</th>\n",
       "      <th>Current_Plan</th>\n",
       "      <th>Payment_Method</th>\n",
       "      <th>Contract_Length</th>\n",
       "      <th>Has_Kids</th>\n",
       "      <th>Other_Services_Bundled</th>\n",
       "      <th>Target</th>\n",
       "    </tr>\n",
       "  </thead>\n",
       "  <tbody>\n",
       "    <tr>\n",
       "      <th>count</th>\n",
       "      <td>4666</td>\n",
       "      <td>4666</td>\n",
       "      <td>4666</td>\n",
       "      <td>4666</td>\n",
       "      <td>4666</td>\n",
       "      <td>4666</td>\n",
       "      <td>4666</td>\n",
       "      <td>4666</td>\n",
       "      <td>4666</td>\n",
       "      <td>4666.000000</td>\n",
       "    </tr>\n",
       "    <tr>\n",
       "      <th>unique</th>\n",
       "      <td>4661</td>\n",
       "      <td>2</td>\n",
       "      <td>49</td>\n",
       "      <td>2</td>\n",
       "      <td>4</td>\n",
       "      <td>2</td>\n",
       "      <td>4</td>\n",
       "      <td>2</td>\n",
       "      <td>2</td>\n",
       "      <td>NaN</td>\n",
       "    </tr>\n",
       "    <tr>\n",
       "      <th>top</th>\n",
       "      <td>25384</td>\n",
       "      <td>M</td>\n",
       "      <td>42</td>\n",
       "      <td>Married</td>\n",
       "      <td>Low</td>\n",
       "      <td>Non-Automatic</td>\n",
       "      <td>No Contract</td>\n",
       "      <td>N</td>\n",
       "      <td>Y</td>\n",
       "      <td>NaN</td>\n",
       "    </tr>\n",
       "    <tr>\n",
       "      <th>freq</th>\n",
       "      <td>2</td>\n",
       "      <td>2333</td>\n",
       "      <td>124</td>\n",
       "      <td>2334</td>\n",
       "      <td>1201</td>\n",
       "      <td>2842</td>\n",
       "      <td>2019</td>\n",
       "      <td>2351</td>\n",
       "      <td>2357</td>\n",
       "      <td>NaN</td>\n",
       "    </tr>\n",
       "    <tr>\n",
       "      <th>mean</th>\n",
       "      <td>NaN</td>\n",
       "      <td>NaN</td>\n",
       "      <td>NaN</td>\n",
       "      <td>NaN</td>\n",
       "      <td>NaN</td>\n",
       "      <td>NaN</td>\n",
       "      <td>NaN</td>\n",
       "      <td>NaN</td>\n",
       "      <td>NaN</td>\n",
       "      <td>0.478783</td>\n",
       "    </tr>\n",
       "    <tr>\n",
       "      <th>std</th>\n",
       "      <td>NaN</td>\n",
       "      <td>NaN</td>\n",
       "      <td>NaN</td>\n",
       "      <td>NaN</td>\n",
       "      <td>NaN</td>\n",
       "      <td>NaN</td>\n",
       "      <td>NaN</td>\n",
       "      <td>NaN</td>\n",
       "      <td>NaN</td>\n",
       "      <td>0.499603</td>\n",
       "    </tr>\n",
       "    <tr>\n",
       "      <th>min</th>\n",
       "      <td>NaN</td>\n",
       "      <td>NaN</td>\n",
       "      <td>NaN</td>\n",
       "      <td>NaN</td>\n",
       "      <td>NaN</td>\n",
       "      <td>NaN</td>\n",
       "      <td>NaN</td>\n",
       "      <td>NaN</td>\n",
       "      <td>NaN</td>\n",
       "      <td>0.000000</td>\n",
       "    </tr>\n",
       "    <tr>\n",
       "      <th>25%</th>\n",
       "      <td>NaN</td>\n",
       "      <td>NaN</td>\n",
       "      <td>NaN</td>\n",
       "      <td>NaN</td>\n",
       "      <td>NaN</td>\n",
       "      <td>NaN</td>\n",
       "      <td>NaN</td>\n",
       "      <td>NaN</td>\n",
       "      <td>NaN</td>\n",
       "      <td>0.000000</td>\n",
       "    </tr>\n",
       "    <tr>\n",
       "      <th>50%</th>\n",
       "      <td>NaN</td>\n",
       "      <td>NaN</td>\n",
       "      <td>NaN</td>\n",
       "      <td>NaN</td>\n",
       "      <td>NaN</td>\n",
       "      <td>NaN</td>\n",
       "      <td>NaN</td>\n",
       "      <td>NaN</td>\n",
       "      <td>NaN</td>\n",
       "      <td>0.000000</td>\n",
       "    </tr>\n",
       "    <tr>\n",
       "      <th>75%</th>\n",
       "      <td>NaN</td>\n",
       "      <td>NaN</td>\n",
       "      <td>NaN</td>\n",
       "      <td>NaN</td>\n",
       "      <td>NaN</td>\n",
       "      <td>NaN</td>\n",
       "      <td>NaN</td>\n",
       "      <td>NaN</td>\n",
       "      <td>NaN</td>\n",
       "      <td>1.000000</td>\n",
       "    </tr>\n",
       "    <tr>\n",
       "      <th>max</th>\n",
       "      <td>NaN</td>\n",
       "      <td>NaN</td>\n",
       "      <td>NaN</td>\n",
       "      <td>NaN</td>\n",
       "      <td>NaN</td>\n",
       "      <td>NaN</td>\n",
       "      <td>NaN</td>\n",
       "      <td>NaN</td>\n",
       "      <td>NaN</td>\n",
       "      <td>1.000000</td>\n",
       "    </tr>\n",
       "  </tbody>\n",
       "</table>\n",
       "</div>"
      ],
      "text/plain": [
       "0      UserID Gender   Age Marital_Status Current_Plan Payment_Method  \\\n",
       "count    4666   4666  4666           4666         4666           4666   \n",
       "unique   4661      2    49              2            4              2   \n",
       "top     25384      M    42        Married          Low  Non-Automatic   \n",
       "freq        2   2333   124           2334         1201           2842   \n",
       "mean      NaN    NaN   NaN            NaN          NaN            NaN   \n",
       "std       NaN    NaN   NaN            NaN          NaN            NaN   \n",
       "min       NaN    NaN   NaN            NaN          NaN            NaN   \n",
       "25%       NaN    NaN   NaN            NaN          NaN            NaN   \n",
       "50%       NaN    NaN   NaN            NaN          NaN            NaN   \n",
       "75%       NaN    NaN   NaN            NaN          NaN            NaN   \n",
       "max       NaN    NaN   NaN            NaN          NaN            NaN   \n",
       "\n",
       "0      Contract_Length Has_Kids Other_Services_Bundled       Target  \n",
       "count             4666     4666                   4666  4666.000000  \n",
       "unique               4        2                      2          NaN  \n",
       "top        No Contract        N                      Y          NaN  \n",
       "freq              2019     2351                   2357          NaN  \n",
       "mean               NaN      NaN                    NaN     0.478783  \n",
       "std                NaN      NaN                    NaN     0.499603  \n",
       "min                NaN      NaN                    NaN     0.000000  \n",
       "25%                NaN      NaN                    NaN     0.000000  \n",
       "50%                NaN      NaN                    NaN     0.000000  \n",
       "75%                NaN      NaN                    NaN     1.000000  \n",
       "max                NaN      NaN                    NaN     1.000000  "
      ]
     },
     "execution_count": 203,
     "metadata": {},
     "output_type": "execute_result"
    }
   ],
   "source": [
    "df_customer.describe(include='all')"
   ]
  },
  {
   "cell_type": "markdown",
   "metadata": {},
   "source": [
    "## Feature Engineering"
   ]
  },
  {
   "cell_type": "code",
   "execution_count": 204,
   "metadata": {},
   "outputs": [
    {
     "name": "stdout",
     "output_type": "stream",
     "text": [
      "<class 'pandas.core.indexes.base.Index'>\n"
     ]
    },
    {
     "data": {
      "text/html": [
       "<div>\n",
       "<style>\n",
       "    .dataframe thead tr:only-child th {\n",
       "        text-align: right;\n",
       "    }\n",
       "\n",
       "    .dataframe thead th {\n",
       "        text-align: left;\n",
       "    }\n",
       "\n",
       "    .dataframe tbody tr th {\n",
       "        vertical-align: top;\n",
       "    }\n",
       "</style>\n",
       "<table border=\"1\" class=\"dataframe\">\n",
       "  <thead>\n",
       "    <tr style=\"text-align: right;\">\n",
       "      <th></th>\n",
       "      <th>UserID</th>\n",
       "      <th>Target</th>\n",
       "      <th>Gender_M</th>\n",
       "      <th>Age_18</th>\n",
       "      <th>Age_19</th>\n",
       "      <th>Age_20</th>\n",
       "      <th>Age_21</th>\n",
       "      <th>Age_22</th>\n",
       "      <th>Age_23</th>\n",
       "      <th>Age_24</th>\n",
       "      <th>...</th>\n",
       "      <th>Marital_Status_Single</th>\n",
       "      <th>Current_Plan_Low</th>\n",
       "      <th>Current_Plan_Medium</th>\n",
       "      <th>Current_Plan_PrePaid</th>\n",
       "      <th>Payment_Method_Non-Automatic</th>\n",
       "      <th>Contract_Length_24 months</th>\n",
       "      <th>Contract_Length_36 Months</th>\n",
       "      <th>Contract_Length_No Contract</th>\n",
       "      <th>Has_Kids_Y</th>\n",
       "      <th>Other_Services_Bundled_Y</th>\n",
       "    </tr>\n",
       "  </thead>\n",
       "  <tbody>\n",
       "    <tr>\n",
       "      <th>1</th>\n",
       "      <td>44793</td>\n",
       "      <td>0.0</td>\n",
       "      <td>0</td>\n",
       "      <td>0</td>\n",
       "      <td>0</td>\n",
       "      <td>0</td>\n",
       "      <td>0</td>\n",
       "      <td>0</td>\n",
       "      <td>0</td>\n",
       "      <td>0</td>\n",
       "      <td>...</td>\n",
       "      <td>0</td>\n",
       "      <td>0</td>\n",
       "      <td>0</td>\n",
       "      <td>1</td>\n",
       "      <td>1</td>\n",
       "      <td>0</td>\n",
       "      <td>0</td>\n",
       "      <td>1</td>\n",
       "      <td>0</td>\n",
       "      <td>1</td>\n",
       "    </tr>\n",
       "    <tr>\n",
       "      <th>2</th>\n",
       "      <td>41648</td>\n",
       "      <td>1.0</td>\n",
       "      <td>1</td>\n",
       "      <td>0</td>\n",
       "      <td>0</td>\n",
       "      <td>0</td>\n",
       "      <td>0</td>\n",
       "      <td>0</td>\n",
       "      <td>0</td>\n",
       "      <td>0</td>\n",
       "      <td>...</td>\n",
       "      <td>1</td>\n",
       "      <td>0</td>\n",
       "      <td>0</td>\n",
       "      <td>0</td>\n",
       "      <td>1</td>\n",
       "      <td>0</td>\n",
       "      <td>1</td>\n",
       "      <td>0</td>\n",
       "      <td>1</td>\n",
       "      <td>0</td>\n",
       "    </tr>\n",
       "    <tr>\n",
       "      <th>3</th>\n",
       "      <td>33568</td>\n",
       "      <td>0.0</td>\n",
       "      <td>1</td>\n",
       "      <td>0</td>\n",
       "      <td>0</td>\n",
       "      <td>0</td>\n",
       "      <td>0</td>\n",
       "      <td>0</td>\n",
       "      <td>0</td>\n",
       "      <td>0</td>\n",
       "      <td>...</td>\n",
       "      <td>0</td>\n",
       "      <td>0</td>\n",
       "      <td>0</td>\n",
       "      <td>1</td>\n",
       "      <td>1</td>\n",
       "      <td>0</td>\n",
       "      <td>0</td>\n",
       "      <td>1</td>\n",
       "      <td>1</td>\n",
       "      <td>0</td>\n",
       "    </tr>\n",
       "    <tr>\n",
       "      <th>4</th>\n",
       "      <td>22041</td>\n",
       "      <td>1.0</td>\n",
       "      <td>1</td>\n",
       "      <td>0</td>\n",
       "      <td>0</td>\n",
       "      <td>0</td>\n",
       "      <td>0</td>\n",
       "      <td>0</td>\n",
       "      <td>0</td>\n",
       "      <td>0</td>\n",
       "      <td>...</td>\n",
       "      <td>0</td>\n",
       "      <td>0</td>\n",
       "      <td>0</td>\n",
       "      <td>1</td>\n",
       "      <td>1</td>\n",
       "      <td>0</td>\n",
       "      <td>0</td>\n",
       "      <td>1</td>\n",
       "      <td>1</td>\n",
       "      <td>1</td>\n",
       "    </tr>\n",
       "    <tr>\n",
       "      <th>5</th>\n",
       "      <td>25439</td>\n",
       "      <td>0.0</td>\n",
       "      <td>0</td>\n",
       "      <td>0</td>\n",
       "      <td>0</td>\n",
       "      <td>0</td>\n",
       "      <td>0</td>\n",
       "      <td>0</td>\n",
       "      <td>0</td>\n",
       "      <td>0</td>\n",
       "      <td>...</td>\n",
       "      <td>1</td>\n",
       "      <td>0</td>\n",
       "      <td>0</td>\n",
       "      <td>0</td>\n",
       "      <td>1</td>\n",
       "      <td>0</td>\n",
       "      <td>0</td>\n",
       "      <td>0</td>\n",
       "      <td>0</td>\n",
       "      <td>1</td>\n",
       "    </tr>\n",
       "    <tr>\n",
       "      <th>6</th>\n",
       "      <td>35806</td>\n",
       "      <td>1.0</td>\n",
       "      <td>0</td>\n",
       "      <td>0</td>\n",
       "      <td>0</td>\n",
       "      <td>0</td>\n",
       "      <td>0</td>\n",
       "      <td>0</td>\n",
       "      <td>0</td>\n",
       "      <td>0</td>\n",
       "      <td>...</td>\n",
       "      <td>0</td>\n",
       "      <td>0</td>\n",
       "      <td>0</td>\n",
       "      <td>1</td>\n",
       "      <td>1</td>\n",
       "      <td>0</td>\n",
       "      <td>0</td>\n",
       "      <td>1</td>\n",
       "      <td>0</td>\n",
       "      <td>0</td>\n",
       "    </tr>\n",
       "    <tr>\n",
       "      <th>7</th>\n",
       "      <td>25384</td>\n",
       "      <td>0.0</td>\n",
       "      <td>0</td>\n",
       "      <td>0</td>\n",
       "      <td>0</td>\n",
       "      <td>0</td>\n",
       "      <td>0</td>\n",
       "      <td>0</td>\n",
       "      <td>0</td>\n",
       "      <td>0</td>\n",
       "      <td>...</td>\n",
       "      <td>1</td>\n",
       "      <td>0</td>\n",
       "      <td>0</td>\n",
       "      <td>1</td>\n",
       "      <td>1</td>\n",
       "      <td>0</td>\n",
       "      <td>0</td>\n",
       "      <td>1</td>\n",
       "      <td>0</td>\n",
       "      <td>1</td>\n",
       "    </tr>\n",
       "    <tr>\n",
       "      <th>8</th>\n",
       "      <td>34179</td>\n",
       "      <td>0.0</td>\n",
       "      <td>0</td>\n",
       "      <td>0</td>\n",
       "      <td>0</td>\n",
       "      <td>0</td>\n",
       "      <td>0</td>\n",
       "      <td>0</td>\n",
       "      <td>0</td>\n",
       "      <td>0</td>\n",
       "      <td>...</td>\n",
       "      <td>0</td>\n",
       "      <td>0</td>\n",
       "      <td>0</td>\n",
       "      <td>1</td>\n",
       "      <td>1</td>\n",
       "      <td>0</td>\n",
       "      <td>0</td>\n",
       "      <td>1</td>\n",
       "      <td>0</td>\n",
       "      <td>1</td>\n",
       "    </tr>\n",
       "    <tr>\n",
       "      <th>9</th>\n",
       "      <td>49554</td>\n",
       "      <td>1.0</td>\n",
       "      <td>1</td>\n",
       "      <td>0</td>\n",
       "      <td>0</td>\n",
       "      <td>0</td>\n",
       "      <td>0</td>\n",
       "      <td>0</td>\n",
       "      <td>0</td>\n",
       "      <td>0</td>\n",
       "      <td>...</td>\n",
       "      <td>0</td>\n",
       "      <td>0</td>\n",
       "      <td>1</td>\n",
       "      <td>0</td>\n",
       "      <td>1</td>\n",
       "      <td>0</td>\n",
       "      <td>0</td>\n",
       "      <td>0</td>\n",
       "      <td>0</td>\n",
       "      <td>0</td>\n",
       "    </tr>\n",
       "    <tr>\n",
       "      <th>10</th>\n",
       "      <td>19807</td>\n",
       "      <td>0.0</td>\n",
       "      <td>0</td>\n",
       "      <td>0</td>\n",
       "      <td>0</td>\n",
       "      <td>1</td>\n",
       "      <td>0</td>\n",
       "      <td>0</td>\n",
       "      <td>0</td>\n",
       "      <td>0</td>\n",
       "      <td>...</td>\n",
       "      <td>1</td>\n",
       "      <td>1</td>\n",
       "      <td>0</td>\n",
       "      <td>0</td>\n",
       "      <td>0</td>\n",
       "      <td>0</td>\n",
       "      <td>0</td>\n",
       "      <td>0</td>\n",
       "      <td>1</td>\n",
       "      <td>1</td>\n",
       "    </tr>\n",
       "  </tbody>\n",
       "</table>\n",
       "<p>10 rows × 61 columns</p>\n",
       "</div>"
      ],
      "text/plain": [
       "   UserID  Target  Gender_M  Age_18  Age_19  Age_20  Age_21  Age_22  Age_23  \\\n",
       "1   44793     0.0         0       0       0       0       0       0       0   \n",
       "2   41648     1.0         1       0       0       0       0       0       0   \n",
       "3   33568     0.0         1       0       0       0       0       0       0   \n",
       "4   22041     1.0         1       0       0       0       0       0       0   \n",
       "5   25439     0.0         0       0       0       0       0       0       0   \n",
       "6   35806     1.0         0       0       0       0       0       0       0   \n",
       "7   25384     0.0         0       0       0       0       0       0       0   \n",
       "8   34179     0.0         0       0       0       0       0       0       0   \n",
       "9   49554     1.0         1       0       0       0       0       0       0   \n",
       "10  19807     0.0         0       0       0       1       0       0       0   \n",
       "\n",
       "    Age_24            ...             Marital_Status_Single  Current_Plan_Low  \\\n",
       "1        0            ...                                 0                 0   \n",
       "2        0            ...                                 1                 0   \n",
       "3        0            ...                                 0                 0   \n",
       "4        0            ...                                 0                 0   \n",
       "5        0            ...                                 1                 0   \n",
       "6        0            ...                                 0                 0   \n",
       "7        0            ...                                 1                 0   \n",
       "8        0            ...                                 0                 0   \n",
       "9        0            ...                                 0                 0   \n",
       "10       0            ...                                 1                 1   \n",
       "\n",
       "    Current_Plan_Medium  Current_Plan_PrePaid  Payment_Method_Non-Automatic  \\\n",
       "1                     0                     1                             1   \n",
       "2                     0                     0                             1   \n",
       "3                     0                     1                             1   \n",
       "4                     0                     1                             1   \n",
       "5                     0                     0                             1   \n",
       "6                     0                     1                             1   \n",
       "7                     0                     1                             1   \n",
       "8                     0                     1                             1   \n",
       "9                     1                     0                             1   \n",
       "10                    0                     0                             0   \n",
       "\n",
       "    Contract_Length_24 months  Contract_Length_36 Months  \\\n",
       "1                           0                          0   \n",
       "2                           0                          1   \n",
       "3                           0                          0   \n",
       "4                           0                          0   \n",
       "5                           0                          0   \n",
       "6                           0                          0   \n",
       "7                           0                          0   \n",
       "8                           0                          0   \n",
       "9                           0                          0   \n",
       "10                          0                          0   \n",
       "\n",
       "    Contract_Length_No Contract  Has_Kids_Y  Other_Services_Bundled_Y  \n",
       "1                             1           0                         1  \n",
       "2                             0           1                         0  \n",
       "3                             1           1                         0  \n",
       "4                             1           1                         1  \n",
       "5                             0           0                         1  \n",
       "6                             1           0                         0  \n",
       "7                             1           0                         1  \n",
       "8                             1           0                         1  \n",
       "9                             0           0                         0  \n",
       "10                            0           1                         1  \n",
       "\n",
       "[10 rows x 61 columns]"
      ]
     },
     "execution_count": 204,
     "metadata": {},
     "output_type": "execute_result"
    }
   ],
   "source": [
    "categorical_features=df_customer.columns\n",
    "print (type(categorical_features))\n",
    "categorical_features=list(categorical_features)  ### convert index into list \n",
    "\n",
    "dropping_variables = ['UserID','Target']\n",
    "\n",
    "features = [feature for feature in categorical_features if feature not in dropping_variables]  ### remove UserID and Target Variabl\n",
    "\n",
    "\n",
    "data = pd.get_dummies(df_customer, columns=features, drop_first=True)\n",
    "data.head(10)"
   ]
  },
  {
   "cell_type": "markdown",
   "metadata": {},
   "source": [
    "## Split Data"
   ]
  },
  {
   "cell_type": "code",
   "execution_count": 205,
   "metadata": {},
   "outputs": [],
   "source": [
    "X=data.drop('Target' , axis = 1)\n",
    "y=data['Target']\n",
    "\n",
    "from sklearn.cross_validation import train_test_split\n",
    "X_train, X_test, y_train, y_test = train_test_split(X, y, test_size=0.1, random_state=1)"
   ]
  },
  {
   "cell_type": "markdown",
   "metadata": {},
   "source": [
    "## Train and Evaluate the model"
   ]
  },
  {
   "cell_type": "code",
   "execution_count": 206,
   "metadata": {},
   "outputs": [
    {
     "data": {
      "text/plain": [
       "0.61670235546038543"
      ]
     },
     "execution_count": 206,
     "metadata": {},
     "output_type": "execute_result"
    }
   ],
   "source": [
    "from sklearn import tree\n",
    "from sklearn.metrics import accuracy_score\n",
    "\n",
    "def best_accuracy(class_weight=None, max_depth=None):\n",
    "    \n",
    "    max_leaf_nodes_list = [2, 4, 8, 16, 32, 64, 128, 256]\n",
    "    \n",
    "    ### accuracy create dictonary \n",
    "    best_accuracy={}\n",
    "    \n",
    "    for node in max_leaf_nodes_list:\n",
    "        clf=tree.DecisionTreeClassifier(max_leaf_nodes=node, max_depth=max_depth)\n",
    "        clf=clf.fit(X_train, y_train)\n",
    "        best_accuracy[node] = clf.score(X_test, y_test)\n",
    "        \n",
    "        \n",
    "    return [{k:v} for k,v in best_accuracy.items() if v==max(best_accuracy.values())]\n",
    "    \n",
    "\n",
    "    \n",
    "best_accuracy()\n",
    "list(best_accuracy()[0].keys())[0]\n",
    "best_accuracy()[0].get(list(best_accuracy()[0].keys())[0])"
   ]
  },
  {
   "cell_type": "code",
   "execution_count": 207,
   "metadata": {},
   "outputs": [
    {
     "name": "stdout",
     "output_type": "stream",
     "text": [
      " Undersampling imbalanced classes with no max depth limit\n",
      " Best Model: 64 Nodes \n",
      " Best Model: 0.62 Accuracy in Training Set \n",
      " Best Model: 0.62 Accuracy in Test Set\n",
      " Undersampling imbalanced classes with 2 max depth limit\n",
      " Best Model: 8 Nodes \n",
      " Best Model: 0.60 Accuracy in Training Set \n",
      " Best Model: 0.58 Accuracy in Test Set\n",
      " Undersampling imbalanced classes with 4 max depth limit\n",
      " Best Model: 64 Nodes \n",
      " Best Model: 0.59 Accuracy in Training Set \n",
      " Best Model: 0.60 Accuracy in Test Set\n",
      " Undersampling imbalanced classes with 6 max depth limit\n",
      " Best Model: 32 Nodes \n",
      " Best Model: 0.62 Accuracy in Training Set \n",
      " Best Model: 0.60 Accuracy in Test Set\n",
      " Undersampling imbalanced classes with 8 max depth limit\n",
      " Best Model: 128 Nodes \n",
      " Best Model: 0.61 Accuracy in Training Set \n",
      " Best Model: 0.60 Accuracy in Test Set\n"
     ]
    }
   ],
   "source": [
    "from sklearn import tree\n",
    "\n",
    "clf=tree.DecisionTreeClassifier(max_leaf_nodes=list(best_accuracy()[0].keys())[0])\n",
    "clf.fit(X_train,y_train)\n",
    "y_pred=clf.predict(X_test)\n",
    "\n",
    "print(\" Undersampling imbalanced classes with no max depth limit\")\n",
    "print(\" Best Model: %d Nodes \" %(list(best_accuracy()[0].keys())[0]))\n",
    "print(\" Best Model: %.2f Accuracy in Training Set \" %(best_accuracy()[0].get(list(best_accuracy()[0].keys())[0])))\n",
    "print(\" Best Model: %.2f Accuracy in Test Set\" %(accuracy_score(y_test, y_pred)))\n",
    "\n",
    "clf=tree.DecisionTreeClassifier(max_leaf_nodes=list(best_accuracy(max_depth=2)[0].keys())[0])\n",
    "clf.fit(X_train,y_train)\n",
    "y_pred=clf.predict(X_test)\n",
    "accuracy_score(y_test, y_pred)\n",
    "print(\" Undersampling imbalanced classes with 2 max depth limit\")\n",
    "print(\" Best Model: %d Nodes \" %(list(best_accuracy(max_depth=2)[0].keys())[0]))\n",
    "print(\" Best Model: %.2f Accuracy in Training Set \" %(best_accuracy(max_depth=2)[0].get(list(best_accuracy(max_depth=2)[0].keys())[0])))\n",
    "print(\" Best Model: %.2f Accuracy in Test Set\" %(accuracy_score(y_test, y_pred)))\n",
    "\n",
    "\n",
    "clf=tree.DecisionTreeClassifier(max_leaf_nodes=list(best_accuracy(max_depth=4)[0].keys())[0])\n",
    "clf.fit(X_train,y_train)\n",
    "y_pred=clf.predict(X_test)\n",
    "accuracy_score(y_test, y_pred)\n",
    "print(\" Undersampling imbalanced classes with 4 max depth limit\")\n",
    "print(\" Best Model: %d Nodes \" %(list(best_accuracy(max_depth=4)[0].keys())[0]))\n",
    "print(\" Best Model: %.2f Accuracy in Training Set \" %(best_accuracy(max_depth=4)[0].get(list(best_accuracy(max_depth=4)[0].keys())[0])))\n",
    "print(\" Best Model: %.2f Accuracy in Test Set\" %(accuracy_score(y_test, y_pred)))\n",
    "\n",
    "\n",
    "\n",
    "clf=tree.DecisionTreeClassifier(max_leaf_nodes=list(best_accuracy(max_depth=6)[0].keys())[0])\n",
    "clf.fit(X_train,y_train)\n",
    "y_pred=clf.predict(X_test)\n",
    "accuracy_score(y_test, y_pred)\n",
    "print(\" Undersampling imbalanced classes with 6 max depth limit\")\n",
    "print(\" Best Model: %d Nodes \" %(list(best_accuracy(max_depth=6)[0].keys())[0]))\n",
    "print(\" Best Model: %.2f Accuracy in Training Set \" %(best_accuracy(max_depth=6)[0].get(list(best_accuracy(max_depth=6)[0].keys())[0])))\n",
    "print(\" Best Model: %.2f Accuracy in Test Set\" %(accuracy_score(y_test, y_pred)))\n",
    "\n",
    "\n",
    "clf=tree.DecisionTreeClassifier(max_leaf_nodes=list(best_accuracy(max_depth=8)[0].keys())[0])\n",
    "clf.fit(X_train,y_train)\n",
    "y_pred=clf.predict(X_test)\n",
    "accuracy_score(y_test, y_pred)\n",
    "print(\" Undersampling imbalanced classes with 8 max depth limit\")\n",
    "print(\" Best Model: %d Nodes \" %(list(best_accuracy(max_depth=8)[0].keys())[0]))\n",
    "print(\" Best Model: %.2f Accuracy in Training Set \" %(best_accuracy(max_depth=8)[0].get(list(best_accuracy(max_depth=8)[0].keys())[0])))\n",
    "print(\" Best Model: %.2f Accuracy in Test Set\" %(accuracy_score(y_test, y_pred)))\n"
   ]
  },
  {
   "cell_type": "code",
   "execution_count": 211,
   "metadata": {},
   "outputs": [
    {
     "name": "stdout",
     "output_type": "stream",
     "text": [
      " Undersampling imbalanced classes with no max depth limit\n",
      " Best Model: 64 Nodes \n",
      " Best Model: 0.62 Accuracy in Training Set \n",
      " Best Model: 0.62 Accuracy in Test Set\n",
      " Undersampling imbalanced classes with 2 max depth limit\n",
      " Best Model: 8 Nodes \n",
      " Best Model: 0.60 Accuracy in Training Set \n",
      " Best Model: 0.58 Accuracy in Test Set\n",
      " Undersampling imbalanced classes with 4 max depth limit\n",
      " Best Model: 32 Nodes \n",
      " Best Model: 0.59 Accuracy in Training Set \n",
      " Best Model: 0.62 Accuracy in Test Set\n",
      " Undersampling imbalanced classes with 6 max depth limit\n",
      " Best Model: 256 Nodes \n",
      " Best Model: 0.63 Accuracy in Training Set \n",
      " Best Model: 0.60 Accuracy in Test Set\n",
      " Undersampling imbalanced classes with 8 max depth limit\n",
      " Best Model: 256 Nodes \n",
      " Best Model: 0.61 Accuracy in Training Set \n",
      " Best Model: 0.60 Accuracy in Test Set\n"
     ]
    }
   ],
   "source": [
    "clf=tree.DecisionTreeClassifier(max_leaf_nodes=list(best_accuracy(class_weight='balanced')[0].keys())[0])\n",
    "clf.fit(X_train,y_train)\n",
    "y_pred=clf.predict(X_test)\n",
    "\n",
    "print(\" Undersampling imbalanced classes with no max depth limit\")\n",
    "print(\" Best Model: %d Nodes \" %(list(best_accuracy(class_weight='balanced')[0].keys())[0]))\n",
    "print(\" Best Model: %.2f Accuracy in Training Set \" %(best_accuracy(class_weight='balanced')[0].get(list(best_accuracy(class_weight='balanced')[0].keys())[0])))\n",
    "print(\" Best Model: %.2f Accuracy in Test Set\" %(accuracy_score(y_test, y_pred)))\n",
    "\n",
    "\n",
    "\n",
    "clf=tree.DecisionTreeClassifier(max_leaf_nodes=list(best_accuracy(class_weight='balanced',max_depth=2)[0].keys())[0])\n",
    "clf.fit(X_train,y_train)\n",
    "y_pred=clf.predict(X_test)\n",
    "accuracy_score(y_test, y_pred)\n",
    "print(\" Undersampling imbalanced classes with 2 max depth limit\")\n",
    "print(\" Best Model: %d Nodes \" %(list(best_accuracy(class_weight='balanced',max_depth=2)[0].keys())[0]))\n",
    "print(\" Best Model: %.2f Accuracy in Training Set \" %(best_accuracy(class_weight='balanced',max_depth=2)[0].get(list(best_accuracy(class_weight='balanced',max_depth=2)[0].keys())[0])))\n",
    "print(\" Best Model: %.2f Accuracy in Test Set\" %(accuracy_score(y_test, y_pred)))\n",
    "\n",
    "\n",
    "clf=tree.DecisionTreeClassifier(max_leaf_nodes=list(best_accuracy(class_weight='balanced',max_depth=4)[0].keys())[0])\n",
    "clf.fit(X_train,y_train)\n",
    "y_pred=clf.predict(X_test)\n",
    "accuracy_score(y_test, y_pred)\n",
    "print(\" Undersampling imbalanced classes with 4 max depth limit\")\n",
    "print(\" Best Model: %d Nodes \" %(list(best_accuracy(class_weight='balanced',max_depth=4)[0].keys())[0]))\n",
    "print(\" Best Model: %.2f Accuracy in Training Set \" %(best_accuracy(class_weight='balanced',max_depth=4)[0].get(list(best_accuracy(class_weight='balanced',max_depth=4)[0].keys())[0])))\n",
    "print(\" Best Model: %.2f Accuracy in Test Set\" %(accuracy_score(y_test, y_pred)))\n",
    "\n",
    "clf=tree.DecisionTreeClassifier(max_leaf_nodes=list(best_accuracy(class_weight='balanced',max_depth=6)[0].keys())[0])\n",
    "clf.fit(X_train,y_train)\n",
    "y_pred=clf.predict(X_test)\n",
    "accuracy_score(y_test, y_pred)\n",
    "print(\" Undersampling imbalanced classes with 6 max depth limit\")\n",
    "print(\" Best Model: %d Nodes \" %(list(best_accuracy(class_weight='balanced',max_depth=6)[0].keys())[0]))\n",
    "print(\" Best Model: %.2f Accuracy in Training Set \" %(best_accuracy(class_weight='balanced',max_depth=6)[0].get(list(best_accuracy(class_weight='balanced',max_depth=6)[0].keys())[0])))\n",
    "print(\" Best Model: %.2f Accuracy in Test Set\" %(accuracy_score(y_test, y_pred)))\n",
    "\n",
    "clf=tree.DecisionTreeClassifier(max_leaf_nodes=list(best_accuracy(max_depth=8)[0].keys())[0])\n",
    "clf.fit(X_train,y_train)\n",
    "y_pred=clf.predict(X_test)\n",
    "accuracy_score(y_test, y_pred)\n",
    "print(\" Undersampling imbalanced classes with 8 max depth limit\")\n",
    "print(\" Best Model: %d Nodes \" %(list(best_accuracy(class_weight='balanced',max_depth=8)[0].keys())[0]))\n",
    "print(\" Best Model: %.2f Accuracy in Training Set \" %(best_accuracy(class_weight='balanced',max_depth=8)[0].get(list(best_accuracy(class_weight='balanced',max_depth=8)[0].keys())[0])))\n",
    "print(\" Best Model: %.2f Accuracy in Test Set\" %(accuracy_score(y_test, y_pred)))"
   ]
  },
  {
   "cell_type": "markdown",
   "metadata": {},
   "source": [
    "## Accuracy vs Maximum Depth Limit Plot "
   ]
  },
  {
   "cell_type": "code",
   "execution_count": 221,
   "metadata": {},
   "outputs": [
    {
     "data": {
      "text/plain": [
       "[<matplotlib.lines.Line2D at 0x294f1d6f390>]"
      ]
     },
     "execution_count": 221,
     "metadata": {},
     "output_type": "execute_result"
    },
    {
     "data": {
      "image/png": "[encoded data removed]",
      "text/plain": [
       "<matplotlib.figure.Figure at 0x294f1d1b9b0>"
      ]
     },
     "metadata": {},
     "output_type": "display_data"
    }
   ],
   "source": [
    "# create matplot figure and default properties\n",
    "plt.figure(figsize=(8,5))\n",
    "plt.xlabel('# of Maximum Depth Limit')\n",
    "plt.ylabel('Training Data Accuracy of Training Data')\n",
    "plt.title('# of Maximum Depth Limit vs Accuracy')\n",
    "\n",
    "\n",
    "# default constraint variable, the iteration number, for cost history iterations\n",
    "train_accuracy = [0.60, 0.59, 0.62, 0.61, 0.62]\n",
    "max_depth_limits = [2,4,6,8,10]\n",
    "\n",
    "plt.plot(max_depth_limits,train_accuracy, '.')"
   ]
  },
  {
   "cell_type": "code",
   "execution_count": 220,
   "metadata": {},
   "outputs": [
    {
     "data": {
      "text/plain": [
       "[<matplotlib.lines.Line2D at 0x294f19252b0>]"
      ]
     },
     "execution_count": 220,
     "metadata": {},
     "output_type": "execute_result"
    },
    {
     "data": {
      "image/png": "[encoded data removed]",
      "text/plain": [
       "<matplotlib.figure.Figure at 0x294f1cc08d0>"
      ]
     },
     "metadata": {},
     "output_type": "display_data"
    }
   ],
   "source": [
    "# create matplot figure and default properties\n",
    "plt.figure(figsize=(8,5))\n",
    "plt.xlabel('# of Maximum Depth Limit')\n",
    "plt.ylabel('Testing Data Accuracy')\n",
    "plt.title('# of Maximum Depth Limit vs Accuracy of Testing Data')\n",
    "\n",
    "\n",
    "# default constraint variable, the iteration number, for cost history iterations\n",
    "train_accuracy = [0.58, 0.60, 0.60, 0.60, 0.62]\n",
    "max_depth_limits = [2,4,6,8,10]\n",
    "\n",
    "plt.plot(max_depth_limits,train_accuracy, '.')"
   ]
  },
  {
   "cell_type": "markdown",
   "metadata": {},
   "source": [
    "# As maximum depth limit increases the accuracy also tend to increase."
   ]
  },
  {
   "cell_type": "markdown",
   "metadata": {},
   "source": [
    "# Accuracy vs Maximum Leaf Nodes"
   ]
  },
  {
   "cell_type": "code",
   "execution_count": 235,
   "metadata": {},
   "outputs": [
    {
     "data": {
      "text/plain": [
       "[<matplotlib.lines.Line2D at 0x294f32e50b8>]"
      ]
     },
     "execution_count": 235,
     "metadata": {},
     "output_type": "execute_result"
    },
    {
     "data": {
      "image/png": "[encoded data removed]",
      "text/plain": [
       "<matplotlib.figure.Figure at 0x294f34ce1d0>"
      ]
     },
     "metadata": {},
     "output_type": "display_data"
    }
   ],
   "source": [
    "# create matplot figure and default properties\n",
    "plt.figure(figsize=(8,5))\n",
    "plt.xlabel('# of Maximum Leaf Nodes')\n",
    "plt.ylabel('Training Data Accuracy')\n",
    "plt.title('# of Maximum Leaf Nodes vs Accuracy of Unbalance Training Data Max Leaf Nodes 2')\n",
    "\n",
    "# default constraint variable, the iteration number, for cost history iterations\n",
    "max_leaf_nodes_list = [2, 4, 8, 16, 32, 64, 128, 256]\n",
    "\n",
    "# for max_depth_limit in [2,4,6,8,10]: \n",
    "accuracy_hist = []\n",
    "    \n",
    "for node in max_leaf_nodes_list:\n",
    "    clf=tree.DecisionTreeClassifier(max_leaf_nodes=node, max_depth=2)\n",
    "    clf=clf.fit(X_train, y_train)\n",
    "    y_pred=clf.predict(X_test)\n",
    "    accuracy_hist.append(accuracy_score(y_test, y_pred))\n",
    "\n",
    "plt.plot(max_leaf_nodes_list, accuracy_hist, '.')"
   ]
  },
  {
   "cell_type": "code",
   "execution_count": 236,
   "metadata": {},
   "outputs": [
    {
     "data": {
      "text/plain": [
       "[<matplotlib.lines.Line2D at 0x294f21f8da0>]"
      ]
     },
     "execution_count": 236,
     "metadata": {},
     "output_type": "execute_result"
    },
    {
     "data": {
      "image/png": "[encoded data removed]",
      "text/plain": [
       "<matplotlib.figure.Figure at 0x294f331ac18>"
      ]
     },
     "metadata": {},
     "output_type": "display_data"
    }
   ],
   "source": [
    "# create matplot figure and default properties\n",
    "plt.figure(figsize=(8,5))\n",
    "plt.xlabel('# of Maximum Leaf Nodes')\n",
    "plt.ylabel('Training Data Accuracy')\n",
    "plt.title('# of Maximum Leaf Nodes vs Accuracy of Unbalance Training Data Max Leaf Nodes 4')\n",
    "\n",
    "# default constraint variable, the iteration number, for cost history iterations\n",
    "max_leaf_nodes_list = [2, 4, 8, 16, 32, 64, 128, 256]\n",
    "\n",
    "# for max_depth_limit in [2,4,6,8,10]: \n",
    "accuracy_hist = []\n",
    "    \n",
    "for node in max_leaf_nodes_list:\n",
    "    clf=tree.DecisionTreeClassifier(max_leaf_nodes=node, max_depth=4)\n",
    "    clf=clf.fit(X_train, y_train)\n",
    "    y_pred=clf.predict(X_test)\n",
    "    accuracy_hist.append(accuracy_score(y_test, y_pred))\n",
    "\n",
    "plt.plot(max_leaf_nodes_list, accuracy_hist, '.')"
   ]
  },
  {
   "cell_type": "code",
   "execution_count": 237,
   "metadata": {},
   "outputs": [
    {
     "data": {
      "text/plain": [
       "[<matplotlib.lines.Line2D at 0x294f1ef6c50>]"
      ]
     },
     "execution_count": 237,
     "metadata": {},
     "output_type": "execute_result"
    },
    {
     "data": {
      "image/png": "[encoded data removed]",
      "text/plain": [
       "<matplotlib.figure.Figure at 0x294f32087f0>"
      ]
     },
     "metadata": {},
     "output_type": "display_data"
    }
   ],
   "source": [
    "# create matplot figure and default properties\n",
    "plt.figure(figsize=(8,5))\n",
    "plt.xlabel('# of Maximum Leaf Nodes')\n",
    "plt.ylabel('Training Data Accuracy')\n",
    "plt.title('# of Maximum Leaf Nodes vs Accuracy of Unbalance Training Data Max Leaf Nodes 6')\n",
    "\n",
    "# default constraint variable, the iteration number, for cost history iterations\n",
    "max_leaf_nodes_list = [2, 4, 8, 16, 32, 64, 128, 256]\n",
    "\n",
    "# for max_depth_limit in [2,4,6,8,10]: \n",
    "accuracy_hist = []\n",
    "    \n",
    "for node in max_leaf_nodes_list:\n",
    "    clf=tree.DecisionTreeClassifier(max_leaf_nodes=node, max_depth=6)\n",
    "    clf=clf.fit(X_train, y_train)\n",
    "    y_pred=clf.predict(X_test)\n",
    "    accuracy_hist.append(accuracy_score(y_test, y_pred))\n",
    "\n",
    "plt.plot(max_leaf_nodes_list, accuracy_hist, '.')"
   ]
  },
  {
   "cell_type": "code",
   "execution_count": 238,
   "metadata": {},
   "outputs": [
    {
     "data": {
      "text/plain": [
       "[<matplotlib.lines.Line2D at 0x294f138d710>]"
      ]
     },
     "execution_count": 238,
     "metadata": {},
     "output_type": "execute_result"
    },
    {
     "data": {
      "image/png": "[encoded data removed]",
      "text/plain": [
       "<matplotlib.figure.Figure at 0x294f1ec4fd0>"
      ]
     },
     "metadata": {},
     "output_type": "display_data"
    }
   ],
   "source": [
    "# create matplot figure and default properties\n",
    "plt.figure(figsize=(8,5))\n",
    "plt.xlabel('# of Maximum Leaf Nodes')\n",
    "plt.ylabel('Training Data Accuracy')\n",
    "plt.title('# of Maximum Leaf Nodes vs Accuracy of Unbalance Training Data Max Leaf Nodes 8')\n",
    "\n",
    "# default constraint variable, the iteration number, for cost history iterations\n",
    "max_leaf_nodes_list = [2, 4, 8, 16, 32, 64, 128, 256]\n",
    "\n",
    "# for max_depth_limit in [2,4,6,8,10]: \n",
    "accuracy_hist = []\n",
    "    \n",
    "for node in max_leaf_nodes_list:\n",
    "    clf=tree.DecisionTreeClassifier(max_leaf_nodes=node, max_depth=8)\n",
    "    clf=clf.fit(X_train, y_train)\n",
    "    y_pred=clf.predict(X_test)\n",
    "    accuracy_hist.append(accuracy_score(y_test, y_pred))\n",
    "\n",
    "plt.plot(max_leaf_nodes_list, accuracy_hist, '.')"
   ]
  },
  {
   "cell_type": "code",
   "execution_count": 239,
   "metadata": {},
   "outputs": [
    {
     "data": {
      "text/plain": [
       "[<matplotlib.lines.Line2D at 0x294f221bba8>]"
      ]
     },
     "execution_count": 239,
     "metadata": {},
     "output_type": "execute_result"
    },
    {
     "data": {
      "image/png": "[encoded data removed]",
      "text/plain": [
       "<matplotlib.figure.Figure at 0x294f34b6f60>"
      ]
     },
     "metadata": {},
     "output_type": "display_data"
    }
   ],
   "source": [
    "# create matplot figure and default properties\n",
    "plt.figure(figsize=(8,5))\n",
    "plt.xlabel('# of Maximum Leaf Nodes')\n",
    "plt.ylabel('Training Data Accuracy')\n",
    "plt.title('# of Maximum Leaf Nodes vs Accuracy of Unbalance Training Data Max Leaf Nodes Infinite')\n",
    "\n",
    "# default constraint variable, the iteration number, for cost history iterations\n",
    "max_leaf_nodes_list = [2, 4, 8, 16, 32, 64, 128, 256]\n",
    "\n",
    "# for max_depth_limit in [2,4,6,8,10]: \n",
    "accuracy_hist = []\n",
    "    \n",
    "for node in max_leaf_nodes_list:\n",
    "    clf=tree.DecisionTreeClassifier(max_leaf_nodes=node)\n",
    "    clf=clf.fit(X_train, y_train)\n",
    "    y_pred=clf.predict(X_test)\n",
    "    accuracy_hist.append(accuracy_score(y_test, y_pred))\n",
    "\n",
    "plt.plot(max_leaf_nodes_list, accuracy_hist, '.')"
   ]
  },
  {
   "cell_type": "code",
   "execution_count": 241,
   "metadata": {},
   "outputs": [
    {
     "data": {
      "text/plain": [
       "[<matplotlib.lines.Line2D at 0x294f1f38518>]"
      ]
     },
     "execution_count": 241,
     "metadata": {},
     "output_type": "execute_result"
    },
    {
     "data": {
      "image/png": "[encoded data removed]",
      "text/plain": [
       "<matplotlib.figure.Figure at 0x294f35610b8>"
      ]
     },
     "metadata": {},
     "output_type": "display_data"
    }
   ],
   "source": [
    "# create matplot figure and default properties\n",
    "plt.figure(figsize=(8,5))\n",
    "plt.xlabel('# of Maximum Leaf Nodes')\n",
    "plt.ylabel('Training Data Accuracy')\n",
    "plt.title('# of Maximum Leaf Nodes vs Accuracy of Balanced Training Data Max Leaf Nodes 2')\n",
    "\n",
    "# default constraint variable, the iteration number, for cost history iterations\n",
    "max_leaf_nodes_list = [2, 4, 8, 16, 32, 64, 128, 256]\n",
    "\n",
    "# for max_depth_limit in [2,4,6,8,10]: \n",
    "accuracy_hist = []\n",
    "    \n",
    "for node in max_leaf_nodes_list:\n",
    "    clf=tree.DecisionTreeClassifier(max_leaf_nodes=node, max_depth=2,class_weight='balanced')\n",
    "    clf=clf.fit(X_train, y_train)\n",
    "    y_pred=clf.predict(X_test)\n",
    "    accuracy_hist.append(accuracy_score(y_test, y_pred))\n",
    "\n",
    "plt.plot(max_leaf_nodes_list, accuracy_hist, '.')"
   ]
  },
  {
   "cell_type": "code",
   "execution_count": 242,
   "metadata": {},
   "outputs": [
    {
     "data": {
      "text/plain": [
       "[<matplotlib.lines.Line2D at 0x294f35a2588>]"
      ]
     },
     "execution_count": 242,
     "metadata": {},
     "output_type": "execute_result"
    },
    {
     "data": {
      "image/png": "[encoded data removed]",
      "text/plain": [
       "<matplotlib.figure.Figure at 0x294f1fc10f0>"
      ]
     },
     "metadata": {},
     "output_type": "display_data"
    }
   ],
   "source": [
    "# create matplot figure and default properties\n",
    "plt.figure(figsize=(8,5))\n",
    "plt.xlabel('# of Maximum Leaf Nodes')\n",
    "plt.ylabel('Training Data Accuracy')\n",
    "plt.title('# of Maximum Leaf Nodes vs Accuracy of Balanced Training Data Max Leaf Nodes 4')\n",
    "\n",
    "# default constraint variable, the iteration number, for cost history iterations\n",
    "max_leaf_nodes_list = [2, 4, 8, 16, 32, 64, 128, 256]\n",
    "\n",
    "# for max_depth_limit in [2,4,6,8,10]: \n",
    "accuracy_hist = []\n",
    "    \n",
    "for node in max_leaf_nodes_list:\n",
    "    clf=tree.DecisionTreeClassifier(max_leaf_nodes=node, max_depth=4,class_weight='balanced')\n",
    "    clf=clf.fit(X_train, y_train)\n",
    "    y_pred=clf.predict(X_test)\n",
    "    accuracy_hist.append(accuracy_score(y_test, y_pred))\n",
    "\n",
    "plt.plot(max_leaf_nodes_list, accuracy_hist, '.')"
   ]
  },
  {
   "cell_type": "code",
   "execution_count": 243,
   "metadata": {},
   "outputs": [
    {
     "data": {
      "text/plain": [
       "[<matplotlib.lines.Line2D at 0x294f362dc88>]"
      ]
     },
     "execution_count": 243,
     "metadata": {},
     "output_type": "execute_result"
    },
    {
     "data": {
      "image/png": "[encoded data removed]",
      "text/plain": [
       "<matplotlib.figure.Figure at 0x294f1f50c88>"
      ]
     },
     "metadata": {},
     "output_type": "display_data"
    }
   ],
   "source": [
    "# create matplot figure and default properties\n",
    "plt.figure(figsize=(8,5))\n",
    "plt.xlabel('# of Maximum Leaf Nodes')\n",
    "plt.ylabel('Training Data Accuracy')\n",
    "plt.title('# of Maximum Leaf Nodes vs Accuracy of Balanced Training Data Max Leaf Nodes 6')\n",
    "\n",
    "# default constraint variable, the iteration number, for cost history iterations\n",
    "max_leaf_nodes_list = [2, 4, 8, 16, 32, 64, 128, 256]\n",
    "\n",
    "# for max_depth_limit in [2,4,6,8,10]: \n",
    "accuracy_hist = []\n",
    "    \n",
    "for node in max_leaf_nodes_list:\n",
    "    clf=tree.DecisionTreeClassifier(max_leaf_nodes=node, max_depth=6,class_weight='balanced')\n",
    "    clf=clf.fit(X_train, y_train)\n",
    "    y_pred=clf.predict(X_test)\n",
    "    accuracy_hist.append(accuracy_score(y_test, y_pred))\n",
    "\n",
    "plt.plot(max_leaf_nodes_list, accuracy_hist, '.')"
   ]
  },
  {
   "cell_type": "code",
   "execution_count": 244,
   "metadata": {},
   "outputs": [
    {
     "data": {
      "text/plain": [
       "[<matplotlib.lines.Line2D at 0x294f36be208>]"
      ]
     },
     "execution_count": 244,
     "metadata": {},
     "output_type": "execute_result"
    },
    {
     "data": {
      "image/png": "[encoded data removed]",
      "text/plain": [
       "<matplotlib.figure.Figure at 0x294f35ee2e8>"
      ]
     },
     "metadata": {},
     "output_type": "display_data"
    }
   ],
   "source": [
    "# create matplot figure and default properties\n",
    "plt.figure(figsize=(8,5))\n",
    "plt.xlabel('# of Maximum Leaf Nodes')\n",
    "plt.ylabel('Training Data Accuracy')\n",
    "plt.title('# of Maximum Leaf Nodes vs Accuracy of Balanced Training Data Max Leaf Nodes 8')\n",
    "\n",
    "# default constraint variable, the iteration number, for cost history iterations\n",
    "max_leaf_nodes_list = [2, 4, 8, 16, 32, 64, 128, 256]\n",
    "\n",
    "# for max_depth_limit in [2,4,6,8,10]: \n",
    "accuracy_hist = []\n",
    "    \n",
    "for node in max_leaf_nodes_list:\n",
    "    clf=tree.DecisionTreeClassifier(max_leaf_nodes=node, max_depth=8,class_weight='balanced')\n",
    "    clf=clf.fit(X_train, y_train)\n",
    "    y_pred=clf.predict(X_test)\n",
    "    accuracy_hist.append(accuracy_score(y_test, y_pred))\n",
    "\n",
    "plt.plot(max_leaf_nodes_list, accuracy_hist, '.')"
   ]
  },
  {
   "cell_type": "code",
   "execution_count": 245,
   "metadata": {},
   "outputs": [
    {
     "data": {
      "text/plain": [
       "[<matplotlib.lines.Line2D at 0x294f32e52b0>]"
      ]
     },
     "execution_count": 245,
     "metadata": {},
     "output_type": "execute_result"
    },
    {
     "data": {
      "image/png": "[encoded data removed]",
      "text/plain": [
       "<matplotlib.figure.Figure at 0x294f36d01d0>"
      ]
     },
     "metadata": {},
     "output_type": "display_data"
    }
   ],
   "source": [
    "# create matplot figure and default properties\n",
    "plt.figure(figsize=(8,5))\n",
    "plt.xlabel('# of Maximum Leaf Nodes')\n",
    "plt.ylabel('Training Data Accuracy')\n",
    "plt.title('# of Maximum Leaf Nodes vs Accuracy of Balanced Training Data Max Leaf Nodes Infinite')\n",
    "\n",
    "# default constraint variable, the iteration number, for cost history iterations\n",
    "max_leaf_nodes_list = [2, 4, 8, 16, 32, 64, 128, 256]\n",
    "\n",
    "# for max_depth_limit in [2,4,6,8,10]: \n",
    "accuracy_hist = []\n",
    "    \n",
    "for node in max_leaf_nodes_list:\n",
    "    clf=tree.DecisionTreeClassifier(max_leaf_nodes=node,class_weight='balanced')\n",
    "    clf=clf.fit(X_train, y_train)\n",
    "    y_pred=clf.predict(X_test)\n",
    "    accuracy_hist.append(accuracy_score(y_test, y_pred))\n",
    "\n",
    "plt.plot(max_leaf_nodes_list, accuracy_hist, '.')"
   ]
  },
  {
   "cell_type": "markdown",
   "metadata": {},
   "source": [
    "# Accuracy increases with the number of maximum leaf nodes, and balanced oversampling seems to produce higher accuracy."
   ]
  }
 ],
 "metadata": {
  "kernelspec": {
   "display_name": "Python 3",
   "language": "python",
   "name": "python3"
  },
  "language_info": {
   "codemirror_mode": {
    "name": "ipython",
    "version": 3
   },
   "file_extension": ".py",
   "mimetype": "text/x-python",
   "name": "python",
   "nbconvert_exporter": "python",
   "pygments_lexer": "ipython3",
   "version": "3.6.1"
  }
 },
 "nbformat": 4,
 "nbformat_minor": 2
}
